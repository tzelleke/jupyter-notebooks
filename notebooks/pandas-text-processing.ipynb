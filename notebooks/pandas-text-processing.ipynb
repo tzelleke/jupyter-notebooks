{
 "cells": [
  {
   "cell_type": "markdown",
   "metadata": {},
   "source": [
    "# Text processing in pandas"
   ]
  },
  {
   "cell_type": "markdown",
   "metadata": {
    "id": "JmHN3RAdJF1_"
   },
   "source": [
    "Text processing functionality in pandas is located under the `Series.str` namespace.\n",
    "\n",
    "[Series.str.split](https://pandas.pydata.org/docs/reference/api/pandas.Series.str.split.html) splits each string in a Series on a given separator and returns a Series of lists."
   ]
  },
  {
   "cell_type": "markdown",
   "metadata": {},
   "source": [
    "## Create demo data"
   ]
  },
  {
   "cell_type": "markdown",
   "metadata": {
    "id": "JmHN3RAdJF1_"
   },
   "source": [
    "We leverage the [io.StringIO](https://docs.python.org/3/library/io.html#io.StringIO) class from Python's standard library to create demo data in CSV format from an inline string."
   ]
  },
  {
   "cell_type": "code",
   "execution_count": 1,
   "metadata": {
    "id": "sSgWpeK91MYK"
   },
   "outputs": [],
   "source": [
    "import io\n",
    "import pandas as pd"
   ]
  },
  {
   "cell_type": "code",
   "execution_count": 2,
   "metadata": {
    "colab": {
     "base_uri": "https://localhost:8080/",
     "height": 143
    },
    "id": "NKAlIEz_1WI5",
    "outputId": "69e499be-aa84-4bd5-ba39-572cc54e2701"
   },
   "outputs": [
    {
     "name": "stdout",
     "output_type": "stream",
     "text": [
      "id,name,phones\n",
      "1,Russel,\"01234567,02345678,03456789\"\n",
      "2,Patrick,\"04123456,05234567,06345678\"\n"
     ]
    }
   ],
   "source": [
    "csv = io.StringIO('\\n'.join([\n",
    "    'id,name,phones',\n",
    "    '1,Russel,\"01234567,02345678,03456789\"',\n",
    "    '2,Patrick,\"04123456,05234567,06345678\"',\n",
    "]))\n",
    "\n",
    "print(csv.getvalue())"
   ]
  },
  {
   "cell_type": "markdown",
   "metadata": {},
   "source": [
    "## Read data into dataframe"
   ]
  },
  {
   "cell_type": "markdown",
   "metadata": {
    "id": "dBJecDpiNOyO"
   },
   "source": [
    "We provide `csv` as file-like input to [pandas.read_csv](https://pandas.pydata.org/docs/reference/api/pandas.read_csv.html).\n",
    "\n",
    "We specify that the `id` column should populate the DataFrame's index.\n",
    "\n",
    "Additionally, we explicitely specify `string` datatype for `name` and `phones` columns."
   ]
  },
  {
   "cell_type": "code",
   "execution_count": 3,
   "metadata": {
    "colab": {
     "base_uri": "https://localhost:8080/",
     "height": 143
    },
    "id": "NKAlIEz_1WI5",
    "outputId": "69e499be-aa84-4bd5-ba39-572cc54e2701"
   },
   "outputs": [
    {
     "data": {
      "text/html": [
       "<div>\n",
       "<style scoped>\n",
       "    .dataframe tbody tr th:only-of-type {\n",
       "        vertical-align: middle;\n",
       "    }\n",
       "\n",
       "    .dataframe tbody tr th {\n",
       "        vertical-align: top;\n",
       "    }\n",
       "\n",
       "    .dataframe thead th {\n",
       "        text-align: right;\n",
       "    }\n",
       "</style>\n",
       "<table border=\"1\" class=\"dataframe\">\n",
       "  <thead>\n",
       "    <tr style=\"text-align: right;\">\n",
       "      <th></th>\n",
       "      <th>name</th>\n",
       "      <th>phones</th>\n",
       "    </tr>\n",
       "    <tr>\n",
       "      <th>id</th>\n",
       "      <th></th>\n",
       "      <th></th>\n",
       "    </tr>\n",
       "  </thead>\n",
       "  <tbody>\n",
       "    <tr>\n",
       "      <th>1</th>\n",
       "      <td>Russel</td>\n",
       "      <td>01234567,02345678,03456789</td>\n",
       "    </tr>\n",
       "    <tr>\n",
       "      <th>2</th>\n",
       "      <td>Patrick</td>\n",
       "      <td>04123456,05234567,06345678</td>\n",
       "    </tr>\n",
       "  </tbody>\n",
       "</table>\n",
       "</div>"
      ],
      "text/plain": [
       "       name                      phones\n",
       "id                                     \n",
       "1    Russel  01234567,02345678,03456789\n",
       "2   Patrick  04123456,05234567,06345678"
      ]
     },
     "execution_count": 3,
     "metadata": {},
     "output_type": "execute_result"
    }
   ],
   "source": [
    "df = pd.read_csv(\n",
    "    csv,\n",
    "    index_col='id',\n",
    "    dtype={\n",
    "        'name': 'string',\n",
    "        'phones': 'string',\n",
    "    },\n",
    ")\n",
    "df"
   ]
  },
  {
   "cell_type": "markdown",
   "metadata": {
    "id": "H2Dxkr1Gcmlq"
   },
   "source": [
    "## Split into rows"
   ]
  },
  {
   "cell_type": "markdown",
   "metadata": {
    "id": "7nh06XmoNP-n"
   },
   "source": [
    "Entries in the `phones` column contain multiple phone numbers separated by ','.\n",
    "To make individual phone numbers accessible for further processing and analysis we have to reshape the DataFrame to hold unique rows for each phone number.\n",
    "We can achieve this in a two-step process:\n",
    "\n",
    "1.   Split each entry in the `phones` column into a list of strings using `Series.str.split`.\n",
    "2.   Distribute the list elements to individual rows using `Series.explode`."
   ]
  },
  {
   "cell_type": "markdown",
   "metadata": {
    "id": "Lq7NSSZUtd2T"
   },
   "source": [
    "[Series.explode](https://pandas.pydata.org/docs/reference/api/pandas.Series.explode.html) transforms list items in a Series of lists (or list-like objects) into separate entries with index labels replicated."
   ]
  },
  {
   "cell_type": "markdown",
   "metadata": {},
   "source": [
    "When we perform these steps on the `phones` column we obtain a Series of individual phone numbers with index labels carried over from source entries."
   ]
  },
  {
   "cell_type": "code",
   "execution_count": 4,
   "metadata": {
    "colab": {
     "base_uri": "https://localhost:8080/"
    },
    "id": "FP0oHdh0daxq",
    "outputId": "bf394067-687c-470c-b14d-86cdcc7abce5"
   },
   "outputs": [
    {
     "data": {
      "text/plain": [
       "id\n",
       "1    01234567\n",
       "1    02345678\n",
       "1    03456789\n",
       "2    04123456\n",
       "2    05234567\n",
       "2    06345678\n",
       "Name: phones, dtype: string"
      ]
     },
     "execution_count": 4,
     "metadata": {},
     "output_type": "execute_result"
    }
   ],
   "source": [
    "df.phones.str.split(',').explode().astype('string')"
   ]
  },
  {
   "cell_type": "markdown",
   "metadata": {
    "id": "Lq7NSSZUtd2T"
   },
   "source": [
    "At this point we can join the resulting Series to our initial DataFrame. Instead, we can arrive at the same result in a single expression."
   ]
  },
  {
   "cell_type": "code",
   "execution_count": 5,
   "metadata": {
    "colab": {
     "base_uri": "https://localhost:8080/",
     "height": 269
    },
    "id": "ZSpUjuMP5LT1",
    "outputId": "7ce806a0-82cf-4fe4-9b22-25efc078c993"
   },
   "outputs": [
    {
     "data": {
      "text/html": [
       "<div>\n",
       "<style scoped>\n",
       "    .dataframe tbody tr th:only-of-type {\n",
       "        vertical-align: middle;\n",
       "    }\n",
       "\n",
       "    .dataframe tbody tr th {\n",
       "        vertical-align: top;\n",
       "    }\n",
       "\n",
       "    .dataframe thead th {\n",
       "        text-align: right;\n",
       "    }\n",
       "</style>\n",
       "<table border=\"1\" class=\"dataframe\">\n",
       "  <thead>\n",
       "    <tr style=\"text-align: right;\">\n",
       "      <th></th>\n",
       "      <th>name</th>\n",
       "      <th>phones</th>\n",
       "    </tr>\n",
       "    <tr>\n",
       "      <th>id</th>\n",
       "      <th></th>\n",
       "      <th></th>\n",
       "    </tr>\n",
       "  </thead>\n",
       "  <tbody>\n",
       "    <tr>\n",
       "      <th>1</th>\n",
       "      <td>Russel</td>\n",
       "      <td>01234567</td>\n",
       "    </tr>\n",
       "    <tr>\n",
       "      <th>1</th>\n",
       "      <td>Russel</td>\n",
       "      <td>02345678</td>\n",
       "    </tr>\n",
       "    <tr>\n",
       "      <th>1</th>\n",
       "      <td>Russel</td>\n",
       "      <td>03456789</td>\n",
       "    </tr>\n",
       "    <tr>\n",
       "      <th>2</th>\n",
       "      <td>Patrick</td>\n",
       "      <td>04123456</td>\n",
       "    </tr>\n",
       "    <tr>\n",
       "      <th>2</th>\n",
       "      <td>Patrick</td>\n",
       "      <td>05234567</td>\n",
       "    </tr>\n",
       "    <tr>\n",
       "      <th>2</th>\n",
       "      <td>Patrick</td>\n",
       "      <td>06345678</td>\n",
       "    </tr>\n",
       "  </tbody>\n",
       "</table>\n",
       "</div>"
      ],
      "text/plain": [
       "       name    phones\n",
       "id                   \n",
       "1    Russel  01234567\n",
       "1    Russel  02345678\n",
       "1    Russel  03456789\n",
       "2   Patrick  04123456\n",
       "2   Patrick  05234567\n",
       "2   Patrick  06345678"
      ]
     },
     "execution_count": 5,
     "metadata": {},
     "output_type": "execute_result"
    }
   ],
   "source": [
    "df.assign(\n",
    "    phones=df.phones.str.split(',')\n",
    ").explode('phones').astype({'phones': 'string'})"
   ]
  },
  {
   "cell_type": "markdown",
   "metadata": {
    "id": "RRn_8QvqKJr4"
   },
   "source": [
    "First, we use [DataFrame.assign](https://pandas.pydata.org/docs/reference/api/pandas.DataFrame.assign.html) to overwrite the initial `phones` column with the Series returned from the split operation.\n",
    "\n",
    "Then we call `explode('phones')` on the resulting DataFrame.\n",
    "[DataFrame.explode](https://pandas.pydata.org/docs/reference/api/pandas.DataFrame.explode.html) works like `Series.explode` yet expects a column to operate on. Lastly, we change the datatype of the new `phones` column to `string`.\n",
    "\n",
    "After this operation the index `id` is no longer unique."
   ]
  },
  {
   "cell_type": "markdown",
   "metadata": {
    "id": "9Uuw7cuuNBmt"
   },
   "source": [
    "Next, we are going to look at the case where the `phones` column contains additional information about the type of a phone number."
   ]
  },
  {
   "cell_type": "markdown",
   "metadata": {
    "id": "gWeHvyBIc1VQ"
   },
   "source": [
    "## Split into columns"
   ]
  },
  {
   "cell_type": "code",
   "execution_count": 6,
   "metadata": {
    "colab": {
     "base_uri": "https://localhost:8080/",
     "height": 143
    },
    "id": "MIG-N8sLBsHg",
    "outputId": "a013ae44-e7aa-48cf-fb13-8d2a38b60f20"
   },
   "outputs": [
    {
     "data": {
      "text/html": [
       "<div>\n",
       "<style scoped>\n",
       "    .dataframe tbody tr th:only-of-type {\n",
       "        vertical-align: middle;\n",
       "    }\n",
       "\n",
       "    .dataframe tbody tr th {\n",
       "        vertical-align: top;\n",
       "    }\n",
       "\n",
       "    .dataframe thead th {\n",
       "        text-align: right;\n",
       "    }\n",
       "</style>\n",
       "<table border=\"1\" class=\"dataframe\">\n",
       "  <thead>\n",
       "    <tr style=\"text-align: right;\">\n",
       "      <th></th>\n",
       "      <th>name</th>\n",
       "      <th>phones</th>\n",
       "    </tr>\n",
       "    <tr>\n",
       "      <th>id</th>\n",
       "      <th></th>\n",
       "      <th></th>\n",
       "    </tr>\n",
       "  </thead>\n",
       "  <tbody>\n",
       "    <tr>\n",
       "      <th>1</th>\n",
       "      <td>Russel</td>\n",
       "      <td>mobil: 01234567,work: 02345678</td>\n",
       "    </tr>\n",
       "    <tr>\n",
       "      <th>2</th>\n",
       "      <td>Patrick</td>\n",
       "      <td>mobil: 04123456,private: 05234567</td>\n",
       "    </tr>\n",
       "  </tbody>\n",
       "</table>\n",
       "</div>"
      ],
      "text/plain": [
       "       name                             phones\n",
       "id                                            \n",
       "1    Russel     mobil: 01234567,work: 02345678\n",
       "2   Patrick  mobil: 04123456,private: 05234567"
      ]
     },
     "execution_count": 6,
     "metadata": {},
     "output_type": "execute_result"
    }
   ],
   "source": [
    "csv = io.StringIO('\\n'.join([\n",
    "    'id,name,phones',\n",
    "    '1,Russel,\"mobil: 01234567,work: 02345678\"',\n",
    "    '2,Patrick,\"mobil: 04123456,private: 05234567\"',\n",
    "]))\n",
    "\n",
    "df = pd.read_csv(\n",
    "    csv,\n",
    "    index_col='id',\n",
    "    dtype={'name': 'string', 'phones': 'string'},\n",
    ")\n",
    "df"
   ]
  },
  {
   "cell_type": "markdown",
   "metadata": {
    "id": "eltG24geNDdq"
   },
   "source": [
    "As in the previous case we split on ',' and explode to individual entries."
   ]
  },
  {
   "cell_type": "code",
   "execution_count": 7,
   "metadata": {
    "colab": {
     "base_uri": "https://localhost:8080/"
    },
    "id": "EUOmkrPUbwGi",
    "outputId": "d3dc1d59-12d0-4d23-cbdf-0bf3189357c5"
   },
   "outputs": [
    {
     "data": {
      "text/plain": [
       "id\n",
       "1      mobil: 01234567\n",
       "1       work: 02345678\n",
       "2      mobil: 04123456\n",
       "2    private: 05234567\n",
       "Name: phones, dtype: string"
      ]
     },
     "execution_count": 7,
     "metadata": {},
     "output_type": "execute_result"
    }
   ],
   "source": [
    "df.phones.str.split(',').explode().astype('string')"
   ]
  },
  {
   "cell_type": "markdown",
   "metadata": {
    "id": "JjXWn28AzgJh"
   },
   "source": [
    "We need a second split operation, this time on the ':[SPACE]' character combination.\n",
    "\n",
    "In contrast to the previous split we like the resulting fragments expanded into separate columns in the resulting DataFrame. "
   ]
  },
  {
   "cell_type": "code",
   "execution_count": 8,
   "metadata": {
    "colab": {
     "base_uri": "https://localhost:8080/",
     "height": 206
    },
    "id": "9pzJ5h5BRQIY",
    "outputId": "a305dadf-58d0-4683-cd4c-bb2e90888b65"
   },
   "outputs": [
    {
     "data": {
      "text/html": [
       "<div>\n",
       "<style scoped>\n",
       "    .dataframe tbody tr th:only-of-type {\n",
       "        vertical-align: middle;\n",
       "    }\n",
       "\n",
       "    .dataframe tbody tr th {\n",
       "        vertical-align: top;\n",
       "    }\n",
       "\n",
       "    .dataframe thead th {\n",
       "        text-align: right;\n",
       "    }\n",
       "</style>\n",
       "<table border=\"1\" class=\"dataframe\">\n",
       "  <thead>\n",
       "    <tr style=\"text-align: right;\">\n",
       "      <th></th>\n",
       "      <th>phone_type</th>\n",
       "      <th>phone_number</th>\n",
       "    </tr>\n",
       "    <tr>\n",
       "      <th>id</th>\n",
       "      <th></th>\n",
       "      <th></th>\n",
       "    </tr>\n",
       "  </thead>\n",
       "  <tbody>\n",
       "    <tr>\n",
       "      <th>1</th>\n",
       "      <td>mobil</td>\n",
       "      <td>01234567</td>\n",
       "    </tr>\n",
       "    <tr>\n",
       "      <th>1</th>\n",
       "      <td>work</td>\n",
       "      <td>02345678</td>\n",
       "    </tr>\n",
       "    <tr>\n",
       "      <th>2</th>\n",
       "      <td>mobil</td>\n",
       "      <td>04123456</td>\n",
       "    </tr>\n",
       "    <tr>\n",
       "      <th>2</th>\n",
       "      <td>private</td>\n",
       "      <td>05234567</td>\n",
       "    </tr>\n",
       "  </tbody>\n",
       "</table>\n",
       "</div>"
      ],
      "text/plain": [
       "   phone_type phone_number\n",
       "id                        \n",
       "1       mobil     01234567\n",
       "1        work     02345678\n",
       "2       mobil     04123456\n",
       "2     private     05234567"
      ]
     },
     "execution_count": 8,
     "metadata": {},
     "output_type": "execute_result"
    }
   ],
   "source": [
    "(\n",
    "    df.phones\n",
    "    .str.split(',').explode()\n",
    "    .str.split(': ', expand=True)\n",
    "    .rename(columns={\n",
    "        0: 'phone_type',\n",
    "        1: 'phone_number',\n",
    "    })\n",
    ")"
   ]
  },
  {
   "cell_type": "markdown",
   "metadata": {
    "id": "i0Y0kiumRnCj"
   },
   "source": [
    "When using `expand=True`, the split elements are expanded into separate columns. If `NaN` is present, it is propagated throughout the columns during the split.\n",
    "\n",
    "So far, we have transformed the `phones` Series into a DataFrame with columns `phone_type` and `phone_number`.\n",
    "\n",
    "In the following code snippet we combine the processing of the `phones` column with a join to the initial DataFrame in one expression.\n",
    "Lastly, we drop the then redundant `phones` column from the resulting DataFrame."
   ]
  },
  {
   "cell_type": "code",
   "execution_count": 9,
   "metadata": {
    "colab": {
     "base_uri": "https://localhost:8080/",
     "height": 206
    },
    "id": "hKhESp_0dN38",
    "outputId": "71af55d2-5238-4698-c10d-109842c2d8f4"
   },
   "outputs": [
    {
     "data": {
      "text/html": [
       "<div>\n",
       "<style scoped>\n",
       "    .dataframe tbody tr th:only-of-type {\n",
       "        vertical-align: middle;\n",
       "    }\n",
       "\n",
       "    .dataframe tbody tr th {\n",
       "        vertical-align: top;\n",
       "    }\n",
       "\n",
       "    .dataframe thead th {\n",
       "        text-align: right;\n",
       "    }\n",
       "</style>\n",
       "<table border=\"1\" class=\"dataframe\">\n",
       "  <thead>\n",
       "    <tr style=\"text-align: right;\">\n",
       "      <th></th>\n",
       "      <th>name</th>\n",
       "      <th>phone_type</th>\n",
       "      <th>phone_number</th>\n",
       "    </tr>\n",
       "    <tr>\n",
       "      <th>id</th>\n",
       "      <th></th>\n",
       "      <th></th>\n",
       "      <th></th>\n",
       "    </tr>\n",
       "  </thead>\n",
       "  <tbody>\n",
       "    <tr>\n",
       "      <th>1</th>\n",
       "      <td>Russel</td>\n",
       "      <td>mobil</td>\n",
       "      <td>01234567</td>\n",
       "    </tr>\n",
       "    <tr>\n",
       "      <th>1</th>\n",
       "      <td>Russel</td>\n",
       "      <td>work</td>\n",
       "      <td>02345678</td>\n",
       "    </tr>\n",
       "    <tr>\n",
       "      <th>2</th>\n",
       "      <td>Patrick</td>\n",
       "      <td>mobil</td>\n",
       "      <td>04123456</td>\n",
       "    </tr>\n",
       "    <tr>\n",
       "      <th>2</th>\n",
       "      <td>Patrick</td>\n",
       "      <td>private</td>\n",
       "      <td>05234567</td>\n",
       "    </tr>\n",
       "  </tbody>\n",
       "</table>\n",
       "</div>"
      ],
      "text/plain": [
       "       name phone_type phone_number\n",
       "id                                 \n",
       "1    Russel      mobil     01234567\n",
       "1    Russel       work     02345678\n",
       "2   Patrick      mobil     04123456\n",
       "2   Patrick    private     05234567"
      ]
     },
     "execution_count": 9,
     "metadata": {},
     "output_type": "execute_result"
    }
   ],
   "source": [
    "df.join(\n",
    "    df.phones\n",
    "    .str.split(',').explode()\n",
    "    .str.split(': ', expand=True)\n",
    "    .rename(columns={\n",
    "        0: 'phone_type',\n",
    "        1: 'phone_number',\n",
    "    })\n",
    "    .astype({'phone_type': 'category'})\n",
    ").drop('phones', axis='columns')"
   ]
  },
  {
   "cell_type": "markdown",
   "metadata": {
    "id": "kmzt_eFpruxb",
    "tags": []
   },
   "source": [
    "## Reshaping to wide format"
   ]
  },
  {
   "cell_type": "markdown",
   "metadata": {
    "id": "MV76Z2GRM-U4"
   },
   "source": [
    "We can reshape the resulting DataFrame to wide format using the following idiom:\n",
    "\n",
    "```python\n",
    "DataFrame.set_index('<COLUMN>', append=True).unstack('<COLUMN>')\n",
    "```"
   ]
  },
  {
   "cell_type": "markdown",
   "metadata": {
    "id": "83pmqiTEZwjT"
   },
   "source": [
    "[DataFrame.set_index](https://pandas.pydata.org/docs/reference/api/pandas.DataFrame.set_index.html) sets the DataFrame index from existing columns.\n",
    "By specifying `append=True` the column is added to the existing index instead of replacing it.\n",
    "Thus, the returned DataFrame contains a hierarchical index composed of the initial index extended by the specified column.\n",
    "\n",
    "[DataFrame.unstack](https://pandas.pydata.org/docs/reference/api/pandas.DataFrame.unstack.html) moves a level from the hierarchical (row) index into a level of the column index."
   ]
  },
  {
   "cell_type": "code",
   "execution_count": 10,
   "metadata": {
    "colab": {
     "base_uri": "https://localhost:8080/",
     "height": 143
    },
    "id": "C9-Gq3YH5LUg",
    "outputId": "5e94932e-360c-4f66-bd22-43ec7e0fd7dc"
   },
   "outputs": [
    {
     "data": {
      "text/html": [
       "<div>\n",
       "<style scoped>\n",
       "    .dataframe tbody tr th:only-of-type {\n",
       "        vertical-align: middle;\n",
       "    }\n",
       "\n",
       "    .dataframe tbody tr th {\n",
       "        vertical-align: top;\n",
       "    }\n",
       "\n",
       "    .dataframe thead th {\n",
       "        text-align: right;\n",
       "    }\n",
       "</style>\n",
       "<table border=\"1\" class=\"dataframe\">\n",
       "  <thead>\n",
       "    <tr style=\"text-align: right;\">\n",
       "      <th>phone_type</th>\n",
       "      <th>mobil</th>\n",
       "      <th>private</th>\n",
       "      <th>work</th>\n",
       "    </tr>\n",
       "    <tr>\n",
       "      <th>id</th>\n",
       "      <th></th>\n",
       "      <th></th>\n",
       "      <th></th>\n",
       "    </tr>\n",
       "  </thead>\n",
       "  <tbody>\n",
       "    <tr>\n",
       "      <th>1</th>\n",
       "      <td>01234567</td>\n",
       "      <td>NaN</td>\n",
       "      <td>02345678</td>\n",
       "    </tr>\n",
       "    <tr>\n",
       "      <th>2</th>\n",
       "      <td>04123456</td>\n",
       "      <td>05234567</td>\n",
       "      <td>NaN</td>\n",
       "    </tr>\n",
       "  </tbody>\n",
       "</table>\n",
       "</div>"
      ],
      "text/plain": [
       "phone_type     mobil   private      work\n",
       "id                                      \n",
       "1           01234567       NaN  02345678\n",
       "2           04123456  05234567       NaN"
      ]
     },
     "execution_count": 10,
     "metadata": {},
     "output_type": "execute_result"
    }
   ],
   "source": [
    "(\n",
    "    df.phones\n",
    "    .str.split(',').explode()\n",
    "    .str.split(': ', expand=True)\n",
    "    .rename(columns={\n",
    "        0: 'phone_type',\n",
    "        1: 'phone_number',\n",
    "    })\n",
    "    .set_index('phone_type', append=True)\n",
    "    .unstack('phone_type')\n",
    "    .droplevel(0, axis='columns')\n",
    ")"
   ]
  },
  {
   "cell_type": "markdown",
   "metadata": {
    "id": "Kn8MvzZYNITO"
   },
   "source": [
    "Now, we can join the reshaped DataFrame to the main data and drop the now redundant `phones` column."
   ]
  },
  {
   "cell_type": "code",
   "execution_count": 11,
   "metadata": {
    "colab": {
     "base_uri": "https://localhost:8080/",
     "height": 143
    },
    "id": "lleUzPI4rt02",
    "outputId": "bd05535c-7179-4c94-af1b-d7b45421c5bd"
   },
   "outputs": [
    {
     "data": {
      "text/html": [
       "<div>\n",
       "<style scoped>\n",
       "    .dataframe tbody tr th:only-of-type {\n",
       "        vertical-align: middle;\n",
       "    }\n",
       "\n",
       "    .dataframe tbody tr th {\n",
       "        vertical-align: top;\n",
       "    }\n",
       "\n",
       "    .dataframe thead th {\n",
       "        text-align: right;\n",
       "    }\n",
       "</style>\n",
       "<table border=\"1\" class=\"dataframe\">\n",
       "  <thead>\n",
       "    <tr style=\"text-align: right;\">\n",
       "      <th></th>\n",
       "      <th>name</th>\n",
       "      <th>mobil</th>\n",
       "      <th>private</th>\n",
       "      <th>work</th>\n",
       "    </tr>\n",
       "    <tr>\n",
       "      <th>id</th>\n",
       "      <th></th>\n",
       "      <th></th>\n",
       "      <th></th>\n",
       "      <th></th>\n",
       "    </tr>\n",
       "  </thead>\n",
       "  <tbody>\n",
       "    <tr>\n",
       "      <th>1</th>\n",
       "      <td>Russel</td>\n",
       "      <td>01234567</td>\n",
       "      <td>&lt;NA&gt;</td>\n",
       "      <td>02345678</td>\n",
       "    </tr>\n",
       "    <tr>\n",
       "      <th>2</th>\n",
       "      <td>Patrick</td>\n",
       "      <td>04123456</td>\n",
       "      <td>05234567</td>\n",
       "      <td>&lt;NA&gt;</td>\n",
       "    </tr>\n",
       "  </tbody>\n",
       "</table>\n",
       "</div>"
      ],
      "text/plain": [
       "       name     mobil   private      work\n",
       "id                                       \n",
       "1    Russel  01234567      <NA>  02345678\n",
       "2   Patrick  04123456  05234567      <NA>"
      ]
     },
     "execution_count": 11,
     "metadata": {},
     "output_type": "execute_result"
    }
   ],
   "source": [
    "df.join(\n",
    "    df.phones\n",
    "    .str.split(',').explode().astype('string')\n",
    "    .str.split(': ', expand=True)\n",
    "    .rename(columns={\n",
    "        0: 'phone_type',\n",
    "        1: 'phone_number',\n",
    "    })\n",
    "    .set_index(['phone_type'], append=True)\n",
    "    .unstack('phone_type').droplevel(0, axis='columns')\n",
    ").drop('phones', axis='columns')"
   ]
  },
  {
   "cell_type": "markdown",
   "metadata": {
    "id": "DCAHWGWSiUsp"
   },
   "source": [
    "## Data cleaning using regular expressions"
   ]
  },
  {
   "cell_type": "markdown",
   "metadata": {
    "id": "ZEjoLajm1hgk"
   },
   "source": [
    "We can arrive at the same result as in the previous case with fewer lines of code by leveraging regular expressions in combination with [Series.str.extract](https://pandas.pydata.org/docs/reference/api/pandas.Series.str.extract.html)."
   ]
  },
  {
   "cell_type": "code",
   "execution_count": 12,
   "metadata": {
    "colab": {
     "base_uri": "https://localhost:8080/",
     "height": 206
    },
    "id": "0IeCZYNbiiJy",
    "outputId": "6f3bcc45-73c3-4f3c-b82a-a6da12ad4907"
   },
   "outputs": [
    {
     "data": {
      "text/html": [
       "<div>\n",
       "<style scoped>\n",
       "    .dataframe tbody tr th:only-of-type {\n",
       "        vertical-align: middle;\n",
       "    }\n",
       "\n",
       "    .dataframe tbody tr th {\n",
       "        vertical-align: top;\n",
       "    }\n",
       "\n",
       "    .dataframe thead th {\n",
       "        text-align: right;\n",
       "    }\n",
       "</style>\n",
       "<table border=\"1\" class=\"dataframe\">\n",
       "  <thead>\n",
       "    <tr style=\"text-align: right;\">\n",
       "      <th></th>\n",
       "      <th>phone_type</th>\n",
       "      <th>phone_number</th>\n",
       "    </tr>\n",
       "    <tr>\n",
       "      <th>id</th>\n",
       "      <th></th>\n",
       "      <th></th>\n",
       "    </tr>\n",
       "  </thead>\n",
       "  <tbody>\n",
       "    <tr>\n",
       "      <th>1</th>\n",
       "      <td>mobil</td>\n",
       "      <td>01234567</td>\n",
       "    </tr>\n",
       "    <tr>\n",
       "      <th>1</th>\n",
       "      <td>work</td>\n",
       "      <td>02345678</td>\n",
       "    </tr>\n",
       "    <tr>\n",
       "      <th>2</th>\n",
       "      <td>mobil</td>\n",
       "      <td>04123456</td>\n",
       "    </tr>\n",
       "    <tr>\n",
       "      <th>2</th>\n",
       "      <td>private</td>\n",
       "      <td>05234567</td>\n",
       "    </tr>\n",
       "  </tbody>\n",
       "</table>\n",
       "</div>"
      ],
      "text/plain": [
       "   phone_type phone_number\n",
       "id                        \n",
       "1       mobil     01234567\n",
       "1        work     02345678\n",
       "2       mobil     04123456\n",
       "2     private     05234567"
      ]
     },
     "execution_count": 12,
     "metadata": {},
     "output_type": "execute_result"
    }
   ],
   "source": [
    "(\n",
    "    df.phones\n",
    "    .str.split(',').explode().astype('string')\n",
    "    .str.extract(r'^(?P<phone_type>\\w+):\\s(?P<phone_number>\\d+$)')\n",
    ")"
   ]
  }
 ],
 "metadata": {
  "colab": {
   "authorship_tag": "ABX9TyOWl7jXmCPqwwN+3zTHgLHy",
   "include_colab_link": true,
   "provenance": []
  },
  "kernelspec": {
   "display_name": "Python 3 (ipykernel)",
   "language": "python",
   "name": "python3"
  },
  "language_info": {
   "codemirror_mode": {
    "name": "ipython",
    "version": 3
   },
   "file_extension": ".py",
   "mimetype": "text/x-python",
   "name": "python",
   "nbconvert_exporter": "python",
   "pygments_lexer": "ipython3",
   "version": "3.10.11"
  }
 },
 "nbformat": 4,
 "nbformat_minor": 4
}
